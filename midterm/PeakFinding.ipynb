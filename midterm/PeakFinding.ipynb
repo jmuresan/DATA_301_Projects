{
 "cells": [
  {
   "cell_type": "markdown",
   "metadata": {
    "nbgrader": {}
   },
   "source": [
    "# Peak Finding"
   ]
  },
  {
   "cell_type": "markdown",
   "metadata": {},
   "source": [
    "In this notebook, you will learn about finding peaks in the values of an array."
   ]
  },
  {
   "cell_type": "markdown",
   "metadata": {
    "nbgrader": {}
   },
   "source": [
    "## Imports"
   ]
  },
  {
   "cell_type": "code",
   "execution_count": 1,
   "metadata": {
    "collapsed": true,
    "nbgrader": {}
   },
   "outputs": [],
   "source": [
    "%matplotlib inline\n",
    "from matplotlib import pyplot as plt\n",
    "import seaborn as sns\n",
    "import numpy as np"
   ]
  },
  {
   "cell_type": "markdown",
   "metadata": {
    "nbgrader": {}
   },
   "source": [
    "## Peak finding"
   ]
  },
  {
   "cell_type": "markdown",
   "metadata": {
    "nbgrader": {}
   },
   "source": [
    "Write a function, `find_peaks`, that finds and returns the indices of the *local maxima* in a sequence of values in an array. A *local maxima* is defined as a value whose neighboring values are all smaller. Your function should:\n",
    "\n",
    "* Properly handle local maxima at the endpoints of the input array.\n",
    "* Return a Numpy array of integer indices.\n",
    "* Handle any Python iterable as input."
   ]
  },
  {
   "cell_type": "code",
   "execution_count": 2,
   "metadata": {
    "collapsed": false,
    "deletable": false,
    "nbgrader": {
     "checksum": "0c28c6d9be0c7badfa4e309fbb07ea1b",
     "grade": false,
     "grade_id": "peakfinding-a",
     "locked": false,
     "solution": true
    }
   },
   "outputs": [],
   "source": [
    "def find_peaks(a):\n",
    "    \"\"\"Find the indices of the local maxima in a sequence.\"\"\"\n",
    "    n = len(a)\n",
    "    array = []\n",
    "    for i in range(n):\n",
    "        if i == 0:\n",
    "            if a[i] > a[i+1]:\n",
    "                array.append(i)\n",
    "        elif i == n-1:\n",
    "            if a[i] > a[i-1]:\n",
    "                array.append(i)\n",
    "        else:\n",
    "            if a[i] > a[i+1] and a[i] > a[i-1]:\n",
    "                array.append(i)\n",
    "    m = len(array)\n",
    "    np_array = np.empty(m)\n",
    "    for j in range(m):\n",
    "        np_array[j] = array[j]\n",
    "    return np_array"
   ]
  },
  {
   "cell_type": "code",
   "execution_count": 3,
   "metadata": {
    "collapsed": false,
    "deletable": false,
    "nbgrader": {
     "checksum": "9ff86e3e27c9e708c4beb23d901caacd",
     "grade": true,
     "grade_id": "peakfinding-b",
     "points": 5
    }
   },
   "outputs": [],
   "source": [
    "p1 = find_peaks([2,0,1,0,2,0,1])\n",
    "assert np.allclose(p1, np.array([0,2,4,6]))\n",
    "p2 = find_peaks(np.array([0,1,2,3]))\n",
    "assert np.allclose(p2, np.array([3]))\n",
    "p3 = find_peaks([3,2,1,0])\n",
    "assert np.allclose(p3, np.array([0]))"
   ]
  },
  {
   "cell_type": "markdown",
   "metadata": {},
   "source": [
    "Here is a string with the first 10000 digits of $\\pi$ (after the decimal):"
   ]
  },
  {
   "cell_type": "code",
   "execution_count": 4,
   "metadata": {
    "collapsed": true,
    "nbgrader": {}
   },
   "outputs": [],
   "source": [
    "from sympy import pi, N\n",
    "pi_digits_str = str(N(pi, 10001))[2:]"
   ]
  },
  {
   "cell_type": "markdown",
   "metadata": {
    "nbgrader": {}
   },
   "source": [
    "Write code to perform the following:\n",
    "\n",
    "* Convert that string to a Numpy array of integers.\n",
    "* Find the indices of the local maxima in the digits of $\\pi$.\n",
    "* Use `np.diff` to find the distances between consequtive local maxima.\n",
    "* Visualize that distribution using an appropriately labeled Seaborn `countplot`."
   ]
  },
  {
   "cell_type": "code",
   "execution_count": 5,
   "metadata": {
    "collapsed": false,
    "deletable": false,
    "nbgrader": {
     "checksum": "a6ae6edbbf49df54a60db160ecfd8c72",
     "grade": true,
     "grade_id": "peakfinding-c",
     "locked": false,
     "points": 5,
     "solution": true
    }
   },
   "outputs": [
    {
     "data": {
      "image/png": "[encoded data removed]",
      "text/plain": [
       "<matplotlib.figure.Figure at 0x7f159083b4a8>"
      ]
     },
     "metadata": {},
     "output_type": "display_data"
    }
   ],
   "source": [
    "a1 = np.empty(10000)\n",
    "for i in range(10000):\n",
    "    a1[i] = int(pi_digits_str[i])\n",
    "a2 = find_peaks(a1)\n",
    "a3 = np.diff(a2)\n",
    "plt.figure(figsize=(10,5))\n",
    "sns.countplot(a3)\n",
    "plt.title(\"Distance between consecutive local maxima of π\", size = 20)\n",
    "plt.xlabel(\"Distance\", size = 20)\n",
    "plt.ylabel(\"Count\",size = 20);"
   ]
  }
 ],
 "metadata": {
  "kernelspec": {
   "display_name": "Python 3",
   "language": "python",
   "name": "python3"
  },
  "language_info": {
   "codemirror_mode": {
    "name": "ipython",
    "version": 3
   },
   "file_extension": ".py",
   "mimetype": "text/x-python",
   "name": "python",
   "nbconvert_exporter": "python",
   "pygments_lexer": "ipython3",
   "version": "3.4.3"
  }
 },
 "nbformat": 4,
 "nbformat_minor": 0
}
