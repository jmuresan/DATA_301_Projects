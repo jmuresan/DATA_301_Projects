{
 "cells": [
  {
   "cell_type": "markdown",
   "metadata": {},
   "source": [
    "# Sports simulations using IPython's interact widget"
   ]
  },
  {
   "cell_type": "code",
   "execution_count": 8,
   "metadata": {
    "collapsed": false
   },
   "outputs": [],
   "source": [
    "import numpy as np\n",
    "%matplotlib inline\n",
    "from matplotlib import pyplot as plt\n",
    "import seaborn as sns\n",
    "\n",
    "from ipywidgets import interact, interactive, fixed\n",
    "from IPython.html import widgets"
   ]
  },
  {
   "cell_type": "markdown",
   "metadata": {},
   "source": [
    "Here, I simulate $n$ games between two teams, where the number of points each team scores follows a Poisson distribution of mean t1_avg and t2_avg, respectively."
   ]
  },
  {
   "cell_type": "code",
   "execution_count": 9,
   "metadata": {
    "collapsed": false
   },
   "outputs": [],
   "source": [
    "def sports_Simulation(t1_avg,t2_avg):\n",
    "    n=50000\n",
    "    lambda1 = t1_avg\n",
    "    lambda2 = t2_avg\n",
    "    sim1 = np.random.poisson(lambda1,n)\n",
    "    sim2 = np.random.poisson(lambda2,n)\n",
    "\n",
    "    spread = sim2-sim1;\n",
    "\n",
    "    team1_wins = 0\n",
    "    team2_wins = 0\n",
    "    total_Ties = 0\n",
    "    for i in spread:\n",
    "        if i > 0:\n",
    "            team2_wins += 1\n",
    "        elif i < 0:\n",
    "            team1_wins += 1\n",
    "        else:\n",
    "            total_Ties += 1\n",
    "    team1_Prob = team1_wins / n\n",
    "    team2_Prob = team2_wins / n\n",
    "    tie_Prob = total_Ties / n\n",
    "    print(\"Prob. Team 1 Wins:\", team1_Prob,\"\\nProb. Team 2 Wins:\", team2_Prob,\\\n",
    "          \"\\nProb. Tie:\", tie_Prob)\n",
    "    plt.bar([1.1,2.1,3.1],[team1_Prob,tie_Prob,team2_Prob],color=['red',\"orange\",\"yellow\"])\n",
    "    plt.xticks([1.5,2.5,3.5], ['Team 1\\n(' + str(team1_Prob)[0:6]+\")\",'Tie\\n('+ str(tie_Prob)[0:6]+\")\",\\\n",
    "                               'Team 2\\n('+ str(team2_Prob)[0:6]+\")\"]);"
   ]
  },
  {
   "cell_type": "code",
   "execution_count": 10,
   "metadata": {
    "collapsed": false,
    "scrolled": true
   },
   "outputs": [
    {
     "name": "stdout",
     "output_type": "stream",
     "text": [
      "Prob. Team 1 Wins: 0.48488 \n",
      "Prob. Team 2 Wins: 0.47964 \n",
      "Prob. Tie: 0.03548\n"
     ]
    },
    {
     "data": {
      "image/png": "[encoded data removed]",
      "text/plain": [
       "<matplotlib.figure.Figure at 0x7f1ba3d7d400>"
      ]
     },
     "metadata": {},
     "output_type": "display_data"
    }
   ],
   "source": [
    "interact(sports_Simulation,t1_avg=(0.0,125.2,0.1),t2_avg=(0.0,125.2,0.1));"
   ]
  },
  {
   "cell_type": "code",
   "execution_count": 11,
   "metadata": {
    "collapsed": true
   },
   "outputs": [],
   "source": [
    "def plot_spread(t1_avg,t2_avg):\n",
    "    n=5000\n",
    "    lambda1 = t1_avg\n",
    "    lambda2 = t2_avg\n",
    "    sim1 = np.random.poisson(lambda1,n)\n",
    "    sim2 = np.random.poisson(lambda2,n)\n",
    "\n",
    "    spread = sim2-sim1;\n",
    "    sns.distplot(spread,kde=False)\n",
    "    plt.xlabel(\"Goal Difference\")\n",
    "    plt.ylabel(\"Density\");"
   ]
  },
  {
   "cell_type": "code",
   "execution_count": 12,
   "metadata": {
    "collapsed": false
   },
   "outputs": [
    {
     "data": {
      "image/png": "[encoded data removed]",
      "text/plain": [
       "<matplotlib.figure.Figure at 0x7f1ba3dc46a0>"
      ]
     },
     "metadata": {},
     "output_type": "display_data"
    }
   ],
   "source": [
    "interact(plot_spread,t1_avg=(0.0,125.2,0.1),t2_avg=(0.0,125.2,0.1));"
   ]
  },
  {
   "cell_type": "code",
   "execution_count": null,
   "metadata": {
    "collapsed": true
   },
   "outputs": [],
   "source": []
  }
 ],
 "metadata": {
  "kernelspec": {
   "display_name": "Python 3",
   "language": "python",
   "name": "python3"
  },
  "language_info": {
   "codemirror_mode": {
    "name": "ipython",
    "version": 3
   },
   "file_extension": ".py",
   "mimetype": "text/x-python",
   "name": "python",
   "nbconvert_exporter": "python",
   "pygments_lexer": "ipython3",
   "version": "3.4.3"
  }
 },
 "nbformat": 4,
 "nbformat_minor": 0
}
