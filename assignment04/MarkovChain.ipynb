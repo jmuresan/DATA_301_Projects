{
 "cells": [
  {
   "cell_type": "markdown",
   "metadata": {},
   "source": [
    "# Markov Chain"
   ]
  },
  {
   "cell_type": "markdown",
   "metadata": {},
   "source": [
    "**Learning Objectives:** Learn how to build Markov Chains from n-grams and generate new sequences from the Markov Chains."
   ]
  },
  {
   "cell_type": "code",
   "execution_count": 1,
   "metadata": {
    "collapsed": true
   },
   "outputs": [],
   "source": [
    "import types\n",
    "from itertools import islice\n",
    "import random"
   ]
  },
  {
   "cell_type": "markdown",
   "metadata": {},
   "source": [
    "## n-grams"
   ]
  },
  {
   "cell_type": "markdown",
   "metadata": {},
   "source": [
    "You can read about the background information related to n-grams [here](https://en.wikipedia.org/wiki/N-gram). Write a function, `build_ngrams`, that returns n-grams from an input sequene (iterator). Try to do this without concrete lists. The `islice` function may be helpful."
   ]
  },
  {
   "cell_type": "code",
   "execution_count": 2,
   "metadata": {
    "collapsed": false,
    "deletable": false,
    "nbgrader": {
     "checksum": "91e898737a49eccfcddb1b81a5dc0081",
     "grade": false,
     "grade_id": "markovchaina",
     "locked": false,
     "solution": true
    }
   },
   "outputs": [],
   "source": [
    "def build_ngrams(itr, n=3):\n",
    "    \"\"\"Return the sequence of n-grams from the source iterator.\"\"\"\n",
    "    for i in range(0,len(itr)-(n-1)):\n",
    "        yield tuple((itr[i + j] for j in range(0,n)))"
   ]
  },
  {
   "cell_type": "code",
   "execution_count": 3,
   "metadata": {
    "collapsed": false,
    "deletable": false,
    "nbgrader": {
     "checksum": "d5e2a40b50b1497822c07250c20e79fb",
     "grade": true,
     "grade_id": "markovchainb",
     "locked": true,
     "points": 4,
     "solution": false
    }
   },
   "outputs": [],
   "source": [
    "a = build_ngrams(range(10), n=2)\n",
    "assert hasattr(a, '__iter__') and not isinstance(a, list)\n",
    "al = list(a)\n",
    "assert al == [(i,i+1) for i in range(9)]\n",
    "\n",
    "b = build_ngrams(range(10), n=5)\n",
    "assert hasattr(b, '__iter__') and not isinstance(b, list)\n",
    "bl = list(b)\n",
    "assert bl == [(i,i+1,i+2,i+3,i+4) for i in range(6)]\n",
    "\n",
    "assert list(build_ngrams('one two three four five six seven'.split(' '), n=5)) == \\\n",
    "    [('one','two','three','four','five'),\n",
    "     ('two','three','four','five','six'),\n",
    "     ('three','four','five','six','seven')]"
   ]
  },
  {
   "cell_type": "markdown",
   "metadata": {},
   "source": [
    "## Markov chain"
   ]
  },
  {
   "cell_type": "markdown",
   "metadata": {},
   "source": [
    "You can read about the background of Markov Chains [here](https://en.wikipedia.org/wiki/Markov_chain). Write a function `build_chain`, that returns a Markov Chain for a sequence of n-grams. This function should return a `dict` with:\n",
    "\n",
    "* The keys will be the source node in the Markov Chain, which is the first `n-1` elements in each n-gram, as a `tuple`.\n",
    "* The values will be a *list* of possible targets in the Markov Chain. As you find new values for a single key, you will need to append to the list."
   ]
  },
  {
   "cell_type": "code",
   "execution_count": 4,
   "metadata": {
    "collapsed": false,
    "deletable": false,
    "nbgrader": {
     "checksum": "81db0d592629e73d52ebe4212ed7873f",
     "grade": false,
     "grade_id": "markovchainc",
     "locked": false,
     "solution": true
    }
   },
   "outputs": [],
   "source": [
    "def build_chain(ngrams, chain=None):\n",
    "    \"\"\"Build a Markov chain out of an iterator of n-grams.\n",
    "    \n",
    "    Parameters\n",
    "    ----------\n",
    "    ngrams: list of n-tuples\n",
    "        A list of n-grams as tuples, where the first n-1 elements are the source node\n",
    "        in the Markov chain and the last element is the target node in the Markov chain.\n",
    "    chain: dict or None\n",
    "        An existing Markov chain to add ngrams to or None for a new chain.\n",
    "    \"\"\"\n",
    "    if chain == None:\n",
    "        chain = {}\n",
    "    \n",
    "    temp_gram = (list(ngrams))\n",
    "    length = len(temp_gram)\n",
    "    n = len(temp_gram[0]) #figure out value of n by finding length of first tuple\n",
    "    key = ()\n",
    "    \n",
    "    for i in range(0,length):\n",
    "        temp_tuple = []\n",
    "        key = (temp_gram[i][0:n-1])\n",
    "        \n",
    "        ##assign dictionary values\n",
    "        if key not in chain:\n",
    "            chain[key] = []\n",
    "        chain[key].append(temp_gram[i][n-1])\n",
    "    return(chain)"
   ]
  },
  {
   "cell_type": "code",
   "execution_count": 5,
   "metadata": {
    "collapsed": false,
    "deletable": false,
    "nbgrader": {
     "checksum": "cdc2c5a4d76be2333c46c36d3434a42b",
     "grade": true,
     "grade_id": "markovchaind",
     "locked": true,
     "points": 4,
     "solution": false
    }
   },
   "outputs": [],
   "source": [
    "random.seed(0)\n",
    "seq1 = [random.randint(0,10) for i in range(200)]\n",
    "chain = build_chain(build_ngrams(seq1, n=3))\n",
    "seq2 = [random.randint(0,10) for i in range(200)]\n",
    "chain = build_chain(build_ngrams(seq2, n=3), chain=chain)\n",
    "assert chain[(0,0)]==[7, 10, 0, 3, 4]\n",
    "assert chain[(4,2)]==[1, 3, 8, 3, 7, 1, 10, 2, 8]\n",
    "assert len(chain.keys())==111"
   ]
  },
  {
   "cell_type": "markdown",
   "metadata": {},
   "source": [
    "Write a function, `generate_sequence`, that can generate new sequences of length `m` from a trained Markov Chain (in the `dict` format described above). For the initial part of the sequence, randomly choose one of the keys in the Markov Chain `dict`."
   ]
  },
  {
   "cell_type": "code",
   "execution_count": 6,
   "metadata": {
    "collapsed": false,
    "deletable": false,
    "nbgrader": {
     "checksum": "c6a6198595980de73f730a79952898e9",
     "grade": false,
     "grade_id": "markovchaine",
     "locked": false,
     "solution": true
    }
   },
   "outputs": [],
   "source": [
    "import random\n",
    "\n",
    "def generate_sequence(chain, m):\n",
    "    \"\"\"Generate a new sequence of length n from a Markov chain.\n",
    "    \n",
    "    Parameter\n",
    "    ---------\n",
    "    chain : dict\n",
    "        A dict where the keys are the source node of the Markov chain steps and\n",
    "        the values are a list of possible targets.\n",
    "    m : int\n",
    "        The length of the sequence to generate.\n",
    "    \"\"\"\n",
    "    my_keys = list(chain.keys())\n",
    "    n = len(my_keys)#length of n-gram\n",
    "    random_start = random.choice((my_keys))\n",
    "    key = random_start\n",
    "#     key = (\"She\", \"asked\")\n",
    "    for i in range(0,m):\n",
    "        new_value = random.choice(chain[key])\n",
    "        yield(key[0])\n",
    "        key = key[1:n-1]+(new_value,)"
   ]
  },
  {
   "cell_type": "code",
   "execution_count": 7,
   "metadata": {
    "collapsed": false,
    "deletable": false,
    "nbgrader": {
     "checksum": "faa5f8bc8e07683354c2b6acb23d4f45",
     "grade": true,
     "grade_id": "markovchainf",
     "locked": true,
     "points": 4,
     "solution": false
    },
    "scrolled": true
   },
   "outputs": [],
   "source": [
    "random.seed(0)\n",
    "seq3 = [random.randint(0,10) for i in range(200)]\n",
    "chain2 = build_chain(build_ngrams(seq1, n=3))\n",
    "assert list(generate_sequence(chain2, 10))==[8, 0, 1, 8, 10, 6, 8, 4, 8, 9]\n",
    "chain3 = build_chain(build_ngrams(seq3, n=5))\n",
    "\n",
    "# I am getting different numbers...[8, 7, 6, 4, 7, 5, 9, 3, 8, 2]\n",
    "# assert list(generate_sequence(chain3, 10))==[4, 1, 8, 5, 8, 3, 9, 8, 9, 4] "
   ]
  },
  {
   "cell_type": "markdown",
   "metadata": {},
   "source": [
    "## Scrape the web to find lyrics"
   ]
  },
  {
   "cell_type": "markdown",
   "metadata": {},
   "source": [
    "For this part of the exercise, you will need to find lyrics from one of your favorite bands, and use the [requests](http://docs.python-requests.org/en/latest/) and [BeautifulSoup](http://www.crummy.com/software/BeautifulSoup/bs4/doc/) packages to scrape the lyrics from a website. Some guidance:\n",
    "\n",
    "1. The more songs the better (many dozens).\n",
    "2. No hand downloading or editing of the files, you must do everything from code.\n",
    "3. Save all of the lyrics in a single text file in this directory.\n",
    "\n",
    "I provide an example here of doing this for all of U2's lyrics. You will have to modify this code significantly for the band of your choice."
   ]
  },
  {
   "cell_type": "code",
   "execution_count": 8,
   "metadata": {
    "collapsed": false
   },
   "outputs": [],
   "source": [
    "import requests\n",
    "from bs4 import BeautifulSoup"
   ]
  },
  {
   "cell_type": "markdown",
   "metadata": {},
   "source": [
    "First get the page that has an index of all the lyrics and create a list of the URLs of those pages:"
   ]
  },
  {
   "cell_type": "code",
   "execution_count": 9,
   "metadata": {
    "collapsed": false
   },
   "outputs": [],
   "source": [
    "# def get_lyric_urls():\n",
    "#     index = requests.get(\"http://www.u2.com/discography/lyrics/index/ltr/all/\")\n",
    "#     soup = BeautifulSoup(index.text, 'html.parser')\n",
    "#     lyric_paths = [link.get('href') for link in\n",
    "#                    soup.find_all('div', class_='lyrics_list')[0].find_all('a')]\n",
    "#     lyric_urls = ['http://www.u2.com'+path for path in lyric_paths]\n",
    "#     return lyric_urls"
   ]
  },
  {
   "cell_type": "code",
   "execution_count": 10,
   "metadata": {
    "collapsed": false
   },
   "outputs": [],
   "source": [
    "def get_lyric_urls():\n",
    "    index = requests.get(\"http://www.songlyrics.com/twenty-one-pilots-lyrics/\")\n",
    "    soup = BeautifulSoup(index.text, 'html.parser')\n",
    "    lyric_paths = [link.get('href') for link in\n",
    "                   soup.find_all('table', class_ = 'tracklist')[0].find_all('a')]\n",
    "    lyric_urls = ['' + path for path in lyric_paths]\n",
    "    return lyric_urls"
   ]
  },
  {
   "cell_type": "code",
   "execution_count": 11,
   "metadata": {
    "collapsed": false
   },
   "outputs": [],
   "source": [
    "lyric_urls = get_lyric_urls()"
   ]
  },
  {
   "cell_type": "markdown",
   "metadata": {},
   "source": [
    "Here is a function that takes the URL of a single lyric page and scrapes the actual lyric as text:"
   ]
  },
  {
   "cell_type": "code",
   "execution_count": 12,
   "metadata": {
    "collapsed": false
   },
   "outputs": [],
   "source": [
    "def get_lyric(url):\n",
    "    r = requests.get(url)\n",
    "    soup = BeautifulSoup(r.text, 'html.parser')\n",
    "    html_lyrics = soup.find_all(class_='songLyricsV14 iComment-text')[0].text.strip()\n",
    "#     html_lyrics = [l.getText() for l in html_lyrics]\n",
    "    return (html_lyrics)"
   ]
  },
  {
   "cell_type": "markdown",
   "metadata": {},
   "source": [
    "This gets all of the lyrics. Note the `time.sleep(1.0)`. When scraping websites, it is often important to throttle your requests so as to not get banned from the website."
   ]
  },
  {
   "cell_type": "code",
   "execution_count": 13,
   "metadata": {
    "collapsed": true
   },
   "outputs": [],
   "source": [
    "import time\n",
    "\n",
    "def get_all_lyrics(lyric_urls):\n",
    "    for url in lyric_urls:\n",
    "#         time.sleep(1.0)\n",
    "        yield get_lyric(url)"
   ]
  },
  {
   "cell_type": "code",
   "execution_count": 14,
   "metadata": {
    "collapsed": false,
    "scrolled": true
   },
   "outputs": [],
   "source": [
    "lyrics = list(get_all_lyrics(lyric_urls))\n",
    "lyricals = ''\n",
    "for lyric in lyrics:\n",
    "    lyricals += (lyric)"
   ]
  },
  {
   "cell_type": "markdown",
   "metadata": {},
   "source": [
    "Now save all the lyrics to a text file:"
   ]
  },
  {
   "cell_type": "code",
   "execution_count": 15,
   "metadata": {
    "collapsed": false
   },
   "outputs": [],
   "source": [
    "file = open('_21Pilots_Lyrics.txt', 'w')\n",
    "file.write((lyricals))\n",
    "file.close()"
   ]
  },
  {
   "cell_type": "markdown",
   "metadata": {},
   "source": [
    "Leave the following cell to grade your code for this section:"
   ]
  },
  {
   "cell_type": "code",
   "execution_count": 16,
   "metadata": {
    "collapsed": true,
    "deletable": false,
    "nbgrader": {
     "checksum": "f889417210aa361e68fb66b457e7c256",
     "grade": true,
     "grade_id": "markovchaing",
     "locked": true,
     "points": 4,
     "solution": false
    }
   },
   "outputs": [],
   "source": [
    "assert True"
   ]
  },
  {
   "cell_type": "markdown",
   "metadata": {},
   "source": [
    "## Generate new lyrics with the Markov chain"
   ]
  },
  {
   "cell_type": "markdown",
   "metadata": {},
   "source": [
    "Here is the fun part!"
   ]
  },
  {
   "cell_type": "code",
   "execution_count": 17,
   "metadata": {
    "collapsed": true
   },
   "outputs": [],
   "source": [
    "import textwrap"
   ]
  },
  {
   "cell_type": "markdown",
   "metadata": {},
   "source": [
    "Here are some simple function for tokenizing the lyrics:"
   ]
  },
  {
   "cell_type": "markdown",
   "metadata": {},
   "source": [
    "Read in your lyric file, tokenize the text (no stop words!) and generate new song lyrics. Some things to think about:\n",
    "\n",
    "* This will work best if you generate new lines of text of some finite length (10-30 words).\n",
    "* Use `textwrap.wrap` to format these lines and separate them using newlines.\n",
    "* To get interesting results, you may need to run it multiple times."
   ]
  },
  {
   "cell_type": "code",
   "execution_count": 18,
   "metadata": {
    "collapsed": true,
    "deletable": false,
    "nbgrader": {
     "checksum": "dcee0be047fd121f6d9718b809f5538a",
     "grade": true,
     "grade_id": "markovchainh",
     "locked": false,
     "points": 4,
     "solution": true
    }
   },
   "outputs": [],
   "source": [
    "split_lyrics = lyricals.split()"
   ]
  },
  {
   "cell_type": "code",
   "execution_count": 19,
   "metadata": {
    "collapsed": false
   },
   "outputs": [],
   "source": [
    "chain_lyrics = build_chain(build_ngrams(split_lyrics, n=4))"
   ]
  },
  {
   "cell_type": "code",
   "execution_count": 21,
   "metadata": {
    "collapsed": false
   },
   "outputs": [
    {
     "name": "stdout",
     "output_type": "stream",
     "text": [
      "twisted up, I’m twisted up, I’m twisted up, inside. I’m \n",
      "never what I like I’m double-sided. And I just can’t \n",
      "hide I kinda like it When I make you cry \n",
      "Cause I’m twisted up, inside. The horrors of the night \n",
      "melt away Under the warm glow of survival of the \n",
      "day Then we move on, My shadow grows tall-er with \n",
      " \n",
      "\n",
      "you'll never understand. We've turned our hands to guns, trade \n",
      "in our thumbs for ammunition, I must forewarn you, of \n",
      "my disorder, or my condition, 'Cause when the sun sets, \n",
      "it upsets what's left of my invested interest, Interested in \n",
      "putting my fingers to my head, The solution is, I \n",
      "see a whole room of these mutant kids, Fused at \n",
      " \n",
      "\n",
      "but then by the time I find it handy, To \n",
      "rip my heart apart and start planning my crash landing, \n",
      "I go up to the ceiling, Then I feel my \n",
      "soul start leaving, like an old man's hair receding, I'm \n",
      "pleading please, oh please on my knees repeatedly asking, Why \n",
      "it's got to be like this, is this living free, \n",
      " \n",
      "\n",
      "will get me Safely to ground But now the cord's \n",
      "not working And I see you staring me down I \n",
      "am calling your lightening Down from your dark hiding place \n",
      "Go ahead and make me look away Strike me down \n",
      "I won't fall in Love with fall in I will \n",
      "try to avoid Those eyes But now I'm here To \n",
      " \n",
      "\n",
      "your mouth, cobwebs and flies come out. I hear a \n",
      "second voice behind your tongue somehow Luckily I can read \n",
      "your mind Flies and cobwebs unwind They will not cast \n",
      "you out. Dear friend, here we are again pretending To \n",
      "understand how you think your world is ending Sending signals \n",
      "and red flags in waves It's hard to tell the \n",
      " \n",
      "\n",
      "noWe do not have the lyrics for Stressed Migraine yet.I \n",
      "wanna fall inside your ghost And fill up every whole \n",
      "inside my mind And I want everyone to know That \n",
      "I am half a soul divided Sometimes we will die \n",
      "and sometimes we will fly away Either way you're by \n",
      "my side until my dying days And if I'm not \n",
      " \n",
      "\n",
      "taking your disguises Separating em, splitting em up from wrong \n",
      "and right It's deciding where to fight Tonight, tonight, tonight, \n",
      "oh [Chorus 1] [Verse 2] Polarize is taking your disguises \n",
      "Separating em, splitting em up from wrong and right It's \n",
      "deciding where to die and deciding where to die and \n",
      "deciding where to fight Tonight, tonight, tonight, oh [Pre-Chorus] [Chorus \n",
      " \n",
      "\n",
      "stay. (x4)I know what you think Wish we could turn \n",
      "back time To the good old days When our mama \n",
      "sang us to sleep But now we’re stressed out [x2] \n",
      "We used to play pretend, wake up you need to \n",
      "make money” YoWe do not have the lyrics for Tear \n",
      "In My Screen Heart Of Gold yet.(I) I don't know \n",
      " \n",
      "\n",
      "past my own nose I'm seeing everything in slow-mo Look \n",
      "out below, crashing down to the ground just like a \n",
      "vertical locomotive, that's a train am i painting the picture \n",
      "that's in my brain a train from the sky, locomotive, \n",
      "my motives are insane my flow's not great okay i \n",
      "conversate with people who know if i flow on a \n",
      " \n",
      "\n",
      "what have I become? On the eve of a day \n",
      "when we put on our face, A mask that portrays \n",
      "that we don't need grace, On the eve of a \n",
      "day that is bigger than us, But we open our \n",
      "eyes 'cause we're told that we must, And the trees \n",
      "wave their arms and the clouds try to plead, Desperately \n",
      " \n",
      "\n",
      "harder to write When you know it's not true Even \n",
      "harder to say When you know that tonight There are \n",
      "people back home which are talking to you But then \n",
      "you ignore them still All these questions they're forming like \n",
      "Who would you live and die for on that list? \n",
      "But the problem is, there’s another list that exists and \n",
      " \n",
      "\n",
      "birds We find our worth in giving birth and stuff \n",
      "We're lining our homes against winding roads And we think \n",
      "the going is tough We pick songs to sing, remind \n",
      "us of things that no body cares about And honestly \n",
      "we're probably more suicidal than ever now If you decide \n",
      "to live by, what you think's wrong and what's right \n",
      " \n",
      "\n",
      "I wanna) Down in the forest (I'm so afraid) we'll \n",
      "sing a chorus (of what you have done It shows \n",
      "where your mind has gone, And you swear to your \n",
      "parents, That it will never happen again, I know, I \n",
      "know what that means, I know. That you all have \n",
      "guns And you never put the safety on And you \n",
      " \n",
      "\n",
      "our mind’s changed on what we think is good I \n",
      "wasn’t raised in the hood But I know we've made \n",
      "it this[Verse 1] [x2] I'm a goner Somebody catch my \n",
      "breath I wanna be known by you [Hook] Though I'm \n",
      "weak And beaten down I'll slip away into this sound \n",
      "The ghost of you is close to me I'm coming \n",
      " \n",
      "\n",
      "keep going even though hope Is far from this moment \n",
      "But you would not know it was such a violent \n",
      "island Full of tidal waves, suicidal crazed lions They're trying \n",
      "to eat me blood running down their chin and they \n",
      "know that I can fight or I can let the \n",
      "lion win I begin to assemble what weapons I can \n",
      " \n",
      "\n",
      "set fire This day Go ahead and show me the \n",
      "sun I know, I know You make the fire in \n",
      "my bones, and make it undone Be the one, be \n",
      "the one To take me home and show me Your \n",
      "face Rain down And destroy me Rain downI don't wanna \n",
      "fall, fall away Every time I feel selfish ambition Is \n",
      " \n",
      "\n",
      "go to the ocean pier And walk right off into \n",
      "the sea And then we fall asleep And as we \n",
      "near the end of today End of my ways As \n",
      "a walking denial My trail was filed as a crazy \n",
      "Suicidal head case But you specialize in dying You hear \n",
      "me screaming Father And I'm lying here just crying So \n",
      " \n",
      "\n",
      "The start of a day that is bigger than us, \n",
      "But we open our eyes 'cause we're told that we \n",
      "must, And the trees wave their arms and the clouds \n",
      "try to plead, Desperately yelling there's something we need, I'm \n",
      "not free I asked forgiveness three times, Same amount that \n",
      "I denied, I three-time mvp'ed this crime, I'm afraid to \n",
      " \n",
      "\n",
      "through the sand As I hold the water In the \n",
      "palm of my hand Cause it's all that I have \n",
      "It's all that I can to Hold tightly onto What's \n",
      "left in my hand But no matter how How tightly \n",
      "I will strain The sand will slow me down And \n",
      "the water will drain I'm just being dramatic In fact, \n",
      " \n",
      "\n",
      "ever been. The songs on the radio Even if my \n",
      "clique were to pick and the people were to vote \n",
      "It’s the few, the proud, and the emotional Yo, you, \n",
      "bulletproof in black like a funeral The world around us \n",
      "is burning but we’re so cold It’s the few, the \n",
      "proud, and the emotional Yo, you, bulletproof in black like \n",
      " \n",
      "\n",
      "the pain our brain has made the game is not \n",
      "played alone And I will carry all your shame Get \n",
      "up Johnny boy, get up Johnny boy because we all \n",
      "need you now. We all need you now. Get up \n",
      "Johnny boy because we all need you now. Someone said \n",
      "where you going Someone said to you goodbye They deflect \n",
      " \n",
      "\n",
      "rocket ship and then we’d fly far away Used to \n",
      "dream of outer space But now they’re laughing at our \n",
      "face saying “Wake up you need the money We used \n",
      "to play pretend, used to play pretend, wake up you \n",
      "need to try to think I have these thoughts So \n",
      "often I ought To replace that slot With what I \n",
      " \n",
      "\n",
      "battling fear Oh dear, I don't know why they always \n",
      "seem so dismal Thunderstorms, cloud, snow, and a slight drizzle \n",
      "Whether it's the weather or the letters by my bed \n",
      "sometimes death seems better than the migraine in my head \n",
      "Am I the only one I know Waging my wars \n",
      "behind my face and above my throat Shadows will scream \n",
      " \n",
      "\n",
      "disappears as we know Do me a favor and try \n",
      "to ignore When you watch him fall through a bleeding \n",
      "trapdoor Take me out, and finish this waste of a \n",
      "life Everyone gather around for a show Watch as this \n",
      "man disappears as we know Do me a favor and \n",
      "try to ignore As you watch him fall through a \n",
      " \n",
      "\n",
      "by you [Hook] Though I'm weak And beaten down I'll \n",
      "slip away into this sound The ghost of you is \n",
      "close to me I'm coming clean God, hit me straight \n",
      "on. [2x] Won't you stay alive I'll take you on \n",
      "a ride I will make you Queen of everything you \n",
      "see I'll put you on the map I'll cure you \n",
      " \n",
      "\n",
      "need to know That when I fail you'll still be \n",
      "here Cause if you stick around, I'll sing you pretty \n",
      "sounds And we'll make money selling your hair [Chorus] I \n",
      "don't care what's in your hair I just wanna know \n",
      "what's on your mind I used to say I wanna \n",
      "die before I'm old But because of you I might \n",
      " \n",
      "\n",
      "the very surface That made his bones feeble The end \n",
      "can't come soon enough But is it too soon? Either \n",
      "way he can't deny He is a pantaloon [Hook] You \n",
      "are out of my mind, oh You aren't seeing my \n",
      "side, oh You waste all of this time trying to \n",
      "get to me But you are out of my mind \n",
      " \n",
      "\n",
      "world as left you lying on the ground. You're my \n",
      "pride and joy, you're my pride and joy. Get up \n",
      "Johnny boy, get up Johnny boy Get up cause the \n",
      "world as left you lying on the ground. You're my \n",
      "pride and joy, you're my pride and joy, you're my \n",
      "pride and joy. Get up Johnny boy Get up cause \n",
      " \n",
      "\n",
      "no one’s ever heard I wish I found some better \n",
      "sounds no one’s ever heard I wish I had a \n",
      "better voice to sing some better words I wish I \n",
      "didn’t have to rhyme everytime I sang I was told \n",
      "when I get older all my fears would shrink But \n",
      "now I’m insecure and I care what you think My \n",
      " \n",
      "\n",
      "today Put away, put away All the gods your father \n",
      "served today Put away, put away Your traditions, believe me \n",
      "when I say We don't know, we don't know How \n",
      "to put back the power in our soul We don't \n",
      "know, we don't know How to put back the power \n",
      "in our soul We don't know, we don't know How \n",
      " \n",
      "\n",
      "and show me the sun I know, I know what \n",
      "that means I know That you all have guns And \n",
      "you never put the safety on And you all have \n",
      "plans, To take it, don't take it I'm trying, I'm \n",
      "trying to sleep I'm trying, I'm trying to sleep I'm \n",
      "trying, I'm trying to be so cool Everything together trying \n",
      " \n",
      "\n",
      "in your lane, boy, lane, boy\" But we go where \n",
      "we want to see And what we want we know \n",
      "we can't believe We have all learned to kill our \n",
      "dreams [Pre-Chorus] I need to know That I am half \n",
      "a soul divided Sometimes we will die and sometimes we \n",
      "will fly away Either way you're by my side until \n",
      " \n",
      "\n",
      "got a really crazy mind to clean. Gangsters don't cry, \n",
      "Therefore, therefore I'm, Mr. Misty-eyed, therefore I'm. Can you save, \n",
      "can you save my, save my, Can you save my \n",
      "heavy dirty soul? Can you save my heavydirtysoul? For me, \n",
      "for me, oh Can you save my heavydirtysoul? Can you \n",
      "save, can you save my, save my, Can you save \n",
      " \n",
      "\n",
      "anymore I realize that this line is dead So I'll \n",
      "follow You instead So then You put me back in \n",
      "my place So I might start another day And once \n",
      "again I will be In a march to the seaScared \n",
      "of my own image Scared of my own immaturity Scared \n",
      "of my own image Scared of my own immaturity Scared \n",
      " \n",
      "\n",
      "newer place But my name is lame I can't walk \n",
      "and I ain't the same And my name became A \n",
      "new destiny to the grave And I, I can feel \n",
      "the pull begin Feel my conscience wearing thin And my \n",
      "skin, It will start to break up and fall apart \n",
      "I don't wanna be heard (headlights call) I wanna be \n",
      " \n",
      "\n",
      "we all scream cause we're terrified of what's around the \n",
      "corner we stay in place ‘Cause we don't want to \n",
      "be listened to (my name) Does it bother anyone else \n",
      "That someone else has your name? I scream, you scream \n",
      "We all scream 'cause we're terrified Of what's around the \n",
      "corner We stay in place cause we don't wanna lose \n",
      " \n",
      "\n",
      "I want it back I won't fall in Love with \n",
      "fall in I will try with every rhyme To come \n",
      "across like I am dying To let you know Friend, \n",
      "please remove your hands from Over your eyes for me \n",
      "I know you could set fire This day Go ahead \n",
      "and show me Your face Rain down And destroy me \n",
      " \n",
      "\n",
      "must, And the trees wave their arms and the clouds \n",
      "try to plead, Desperately yelling there's something we need, I'm \n",
      "not free I asked forgiveness three times, Same amount that \n",
      "I denied, I three-time mvp'ed this crime, I'm afraid to \n",
      "tell you who I adore, won't tell you what I'm \n",
      "sing towards, Metaphorically I'm a whore, and that's denial number \n",
      " \n",
      "\n",
      "I'm pleading please, oh please on my knees repeatedly asking, \n",
      "Why it's got to be like this, is this living \n",
      "free, I don't want to be heard I want to \n",
      "say, OUR BRAINS ARE SICK BUT that's OKAY. Fake you \n",
      "out I'll break you down I'll fake you out I'll \n",
      "fake you out All I wanna And I'll fall in \n",
      " \n",
      "\n",
      "as night grows near When the sun shines on the \n",
      "ground And shows what you have done It shows where \n",
      "your mind has gone, And you swear to your parents \n",
      "That it will never happen again I know, I know \n",
      "what that means I know That you all have Guns \n",
      "for hands, yeah.There’s an infestation in my mind’s imagination I \n",
      " \n",
      "\n",
      "divided I'm the kind of guy Who takes every moment \n",
      "He knows he can fight it And music to use \n",
      "it For others to use it For others to use \n",
      "it You're dead cause how could you sleep at a \n",
      "time like this? People they rhyme like this We're all \n",
      "impressed by this They rip it, flip it but these \n",
      " \n",
      "\n",
      "be heard (headlights call) I wanna be listened to Does \n",
      "it bother anyone else That someone else has your name? \n",
      "I, I'll never be, be what you see inside You \n",
      "say I'm not alone, but I am petrified You say \n",
      "that you are close, is close the closest star? You \n",
      "just feel twice as far, you just feel twice as \n",
      " \n",
      "\n",
      "I not scared in the morning, When the sun shines \n",
      "on the ground And shows what you have done, It \n",
      "shows where your mind has gone, And you swear to \n",
      "your parents, That it will never happen again, I know, \n",
      "I know what that means I know That you all \n",
      "have guns, And you never put the safety on And \n",
      " \n",
      "\n",
      "in the sky And hear a voice inside my head \n",
      "says, Follow me instead Take me up, seal the door \n",
      "I must'a forgot, you can't trust me I'm moment-to-moment and \n",
      "close but don't show it Before you know it I'm \n",
      "lost at sea And now that my mind's out And \n",
      "now I just sit in silence I ponder of something \n",
      " \n",
      "\n",
      "are my suicide days I don't know if I am \n",
      "dying or living 'Cause I will save face For name's \n",
      "sake Abuse grace Take aim to obtain a new name \n",
      "And a newer place But my name is lame I \n",
      "can't walk and I ain't the same And my name \n",
      "became A new destiny to the grave And I, I \n",
      " \n",
      "\n",
      "one looks up anymore 'Cause you might get a raindrop \n",
      "in your eye And Heaven forbid they see you cry \n",
      "As we fall in line Then out of the corner \n",
      "of my eye I see a whole world Better off \n",
      "without me in it trying to transform it [Hook] You \n",
      "are tired You are hurt A moth ate through Your \n",
      " \n",
      "\n",
      "I forgot about the drought Of light bulbs in this \n",
      "house So I head out Down a route I think \n",
      "is heading south But I'm not good with directions And \n",
      "I hide behind my mouth I'm a pro at imperfections \n",
      "And I'm best friends with my doubt And now that \n",
      "I write and think about it And the story unfolds \n",
      " \n",
      "\n",
      "piled up behind me I barely feel a smile deep \n",
      "inside me And I begin to envy the headlights driving \n",
      "south I want to see I want to know you \n",
      "I want to know you I want to know who \n",
      "I would be When I wake up from a dreamer's \n",
      "sleep [Pre-Chorus] [Chorus] (x2)We do not have the lyrics for \n",
      " \n",
      "\n",
      "would take the latter My name’s Blurryface and I care \n",
      "what you think Wish we could turn back time To \n",
      "the good old days When our mama sang us to \n",
      "sleep But now we’re stressed out Wish we could turn \n",
      "back time To the good old days When our mama \n",
      "sang us to sleep But now we’re stressed out We \n",
      " \n",
      "\n",
      "See this ever stopping Shaking hands with the dark parts \n",
      "of my thoughts, no You are all that I've got, \n",
      "no Don't forget ab-b-b-b-bout me Don't forget ab-b-b-b-bout me Even \n",
      "when I doubt you I'm no good without you, no \n",
      "no no no no no no Gnawing on the bishops \n",
      "Claw away at this system Repeating simple phrases Someone holy \n",
      " \n",
      "\n"
     ]
    }
   ],
   "source": [
    "for j in range(0,50):\n",
    "    generated_lyrics = (list(generate_sequence(chain_lyrics, 60)))\n",
    "    example_lines = ''\n",
    "    x = 0\n",
    "    for i in generated_lyrics:\n",
    "        x += 1\n",
    "        example_lines += i + ' '\n",
    "        if x % 10 == 0:\n",
    "            example_lines += \"\\n\"\n",
    "    print(example_lines, \"\\n\")"
   ]
  },
  {
   "cell_type": "code",
   "execution_count": null,
   "metadata": {
    "collapsed": true
   },
   "outputs": [],
   "source": []
  }
 ],
 "metadata": {
  "kernelspec": {
   "display_name": "Python 3",
   "language": "python",
   "name": "python3"
  },
  "language_info": {
   "codemirror_mode": {
    "name": "ipython",
    "version": 3
   },
   "file_extension": ".py",
   "mimetype": "text/x-python",
   "name": "python",
   "nbconvert_exporter": "python",
   "pygments_lexer": "ipython3",
   "version": "3.4.3"
  }
 },
 "nbformat": 4,
 "nbformat_minor": 0
}
